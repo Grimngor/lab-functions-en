{
 "cells": [
  {
   "cell_type": "markdown",
   "metadata": {},
   "source": [
    "# Functions"
   ]
  },
  {
   "cell_type": "markdown",
   "metadata": {},
   "source": [
    "On this lab we will put to practice some of the concepts we have learned on this past few days.\n",
    "\n",
    "`NOTE: On this lab you should try to write all the functions yourself using only the most basic of python syntax and without functions such as len, count, sum, max, min, in, etc. Give it a try. 🧑🏻‍💻👩🏻‍💻`\n",
    "\n",
    "The cell after each exercise contains a few tests to check if your function works as expected."
   ]
  },
  {
   "cell_type": "code",
   "execution_count": 135,
   "metadata": {},
   "outputs": [],
   "source": [
    "from mod.testing import *\n",
    "import unittest"
   ]
  },
  {
   "cell_type": "markdown",
   "metadata": {},
   "source": [
    "## 1. Write a function that returns the greater of two numbers"
   ]
  },
  {
   "cell_type": "code",
   "execution_count": 136,
   "metadata": {},
   "outputs": [],
   "source": [
    "def greater(a,b):\n",
    "    if a>b: return a\n",
    "    elif b>a: return b\n",
    "    else:\n",
    "        print(f\"Error: {a} and {b} are equal\")\n",
    "        return None"
   ]
  },
  {
   "cell_type": "code",
   "execution_count": 137,
   "metadata": {},
   "outputs": [
    {
     "name": "stderr",
     "output_type": "stream",
     "text": [
      "....................................................................................................\n",
      "----------------------------------------------------------------------\n",
      "Ran 100 tests in 0.038s\n",
      "\n",
      "OK\n"
     ]
    }
   ],
   "source": [
    "# This will test your function \n",
    "test_greater(greater)"
   ]
  },
  {
   "cell_type": "code",
   "execution_count": 138,
   "metadata": {},
   "outputs": [
    {
     "name": "stdout",
     "output_type": "stream",
     "text": [
      "Error: 2 and 2 are equal\n"
     ]
    }
   ],
   "source": [
    "greater(2,2)"
   ]
  },
  {
   "cell_type": "markdown",
   "metadata": {},
   "source": [
    "## 2. Now write a function that returns the largest element on a list"
   ]
  },
  {
   "cell_type": "code",
   "execution_count": 139,
   "metadata": {},
   "outputs": [],
   "source": [
    "def greatest(lst):\n",
    "    greater = 0\n",
    "    for i in lst:\n",
    "        if i > greater: greater = i\n",
    "    return greater"
   ]
  },
  {
   "cell_type": "code",
   "execution_count": 140,
   "metadata": {},
   "outputs": [
    {
     "name": "stderr",
     "output_type": "stream",
     "text": [
      "....................................................................................................\n",
      "----------------------------------------------------------------------\n",
      "Ran 100 tests in 0.031s\n",
      "\n",
      "OK\n"
     ]
    }
   ],
   "source": [
    "# This will test your function \n",
    "test_greatest(greatest)"
   ]
  },
  {
   "cell_type": "markdown",
   "metadata": {},
   "source": [
    "## 3. Write a function that sums all the elements on a list"
   ]
  },
  {
   "cell_type": "code",
   "execution_count": 141,
   "metadata": {},
   "outputs": [],
   "source": [
    "def sum_all(lst):\n",
    "    sum = 0\n",
    "    for i in lst:\n",
    "        sum += i\n",
    "    return sum"
   ]
  },
  {
   "cell_type": "code",
   "execution_count": 142,
   "metadata": {
    "scrolled": true
   },
   "outputs": [
    {
     "name": "stderr",
     "output_type": "stream",
     "text": [
      "....................................................................................................\n",
      "----------------------------------------------------------------------\n",
      "Ran 100 tests in 0.039s\n",
      "\n",
      "OK\n"
     ]
    }
   ],
   "source": [
    "# This will test your function \n",
    "test_sum(sum_all)"
   ]
  },
  {
   "cell_type": "markdown",
   "metadata": {},
   "source": [
    "## 4. Write another function that multiplies all the elements on a list"
   ]
  },
  {
   "cell_type": "code",
   "execution_count": 143,
   "metadata": {},
   "outputs": [],
   "source": [
    "def mult_all(lst):\n",
    "    mult = 1\n",
    "    for i in lst:\n",
    "        mult*= i\n",
    "    return mult"
   ]
  },
  {
   "cell_type": "code",
   "execution_count": 144,
   "metadata": {
    "scrolled": true
   },
   "outputs": [
    {
     "name": "stderr",
     "output_type": "stream",
     "text": [
      "....................................................................................................\n",
      "----------------------------------------------------------------------\n",
      "Ran 100 tests in 0.045s\n",
      "\n",
      "OK\n"
     ]
    }
   ],
   "source": [
    "# This will test your function \n",
    "test_mult(mult_all)"
   ]
  },
  {
   "cell_type": "markdown",
   "metadata": {},
   "source": [
    "## 5. Now combine those two ideas and write a function that receives a list and either \"+\" or \"*\" and outputs acordingly"
   ]
  },
  {
   "cell_type": "code",
   "execution_count": 145,
   "metadata": {},
   "outputs": [],
   "source": [
    "def oper_all(arr, oper = \"*\"):\n",
    "    if oper == \"*\":\n",
    "        mult = 1\n",
    "        for i in arr:\n",
    "            mult*= i\n",
    "        return mult\n",
    "    \n",
    "    elif oper == \"+\":\n",
    "        sum = 0\n",
    "        for i in arr:\n",
    "            sum += i\n",
    "        return sum\n",
    "    else:\n",
    "        print(f\"Error: Second argument was {oper}. It must be '*' or '+'\")"
   ]
  },
  {
   "cell_type": "code",
   "execution_count": 146,
   "metadata": {},
   "outputs": [
    {
     "name": "stderr",
     "output_type": "stream",
     "text": [
      "....................................................................................................\n",
      "----------------------------------------------------------------------\n",
      "Ran 100 tests in 0.039s\n",
      "\n",
      "OK\n"
     ]
    }
   ],
   "source": [
    "# This will test your function \n",
    "test_operations(oper_all)"
   ]
  },
  {
   "cell_type": "markdown",
   "metadata": {},
   "source": [
    "## 6. Write a function that returns the factorial of a number."
   ]
  },
  {
   "cell_type": "code",
   "execution_count": 147,
   "metadata": {},
   "outputs": [],
   "source": [
    "def factorial(n):\n",
    "    num = 1\n",
    "    for i in range(1, n+1):\n",
    "        num *= i\n",
    "    return num"
   ]
  },
  {
   "cell_type": "code",
   "execution_count": 148,
   "metadata": {},
   "outputs": [],
   "source": [
    "#factorial formula\n",
    "#n! = n * ( n - 1 ) *...*1\n",
    "\n",
    "# This code defines a function called \"factorial\" which takes an input \"n\". The function uses a for loop to iterate through the range of numbers \n",
    "# from 1 to n+1. For each number in that range, it multiplies the current value of x by the number in the range. At the end of the loop, \n",
    "# the function returns the final value of x, which will be the factorial of the input number \"n\".\n",
    "\n",
    "# The Factorial of a positive integer n is the product of all positive integers less than or equal to n. \n",
    "# For example, the factorial of 6 (written \"6!\") is 6 * 5 * 4 * 3 * 2 * 1 = 720.\n",
    "\n",
    "# So this function takes an input of any positive integer, and returns the factorial of that number."
   ]
  },
  {
   "cell_type": "code",
   "execution_count": 149,
   "metadata": {},
   "outputs": [
    {
     "name": "stderr",
     "output_type": "stream",
     "text": [
      "....................................................................................................\n",
      "----------------------------------------------------------------------\n",
      "Ran 100 tests in 0.033s\n",
      "\n",
      "OK\n"
     ]
    }
   ],
   "source": [
    "# This will test your function \n",
    "test_factorial(factorial)"
   ]
  },
  {
   "cell_type": "markdown",
   "metadata": {},
   "source": [
    "## 7. Write a function that takes a list and returns a list of the unique values.\n",
    "\n",
    "`NOTE: You cannot use set. 🤔`"
   ]
  },
  {
   "cell_type": "code",
   "execution_count": 150,
   "metadata": {},
   "outputs": [],
   "source": [
    "def unique(lst_un: list) -> list:\n",
    "    \"\"\"\n",
    "    The function takes a list and returns a list of the unique values.\n",
    "    \"\"\"\n",
    "\n",
    "    newList = []\n",
    "    \n",
    "    for i in lst_un:\n",
    "        control = False\n",
    "        newList.append(i)\n",
    "        for j in newList:\n",
    "            if j == i and not(control):\n",
    "                control = True\n",
    "                continue\n",
    "            elif j == i and control:\n",
    "                newList.remove(i)\n",
    "\n",
    "    return newList"
   ]
  },
  {
   "cell_type": "code",
   "execution_count": 151,
   "metadata": {},
   "outputs": [
    {
     "name": "stderr",
     "output_type": "stream",
     "text": [
      "....................................................................................................\n",
      "----------------------------------------------------------------------\n",
      "Ran 100 tests in 0.234s\n",
      "\n",
      "OK\n"
     ]
    }
   ],
   "source": [
    "# This will test your function \n",
    "test_unique(unique)"
   ]
  },
  {
   "cell_type": "markdown",
   "metadata": {},
   "source": [
    "## 8. Write a function that returns the mode of a list, i.e.: the element that appears the most times.\n",
    "`NOTE: You should not use count... 🧐`"
   ]
  },
  {
   "cell_type": "code",
   "execution_count": 152,
   "metadata": {},
   "outputs": [],
   "source": [
    "def mode_counter(arr: list):\n",
    "    \"\"\"\n",
    "    Returns the mode of a list, i.e.: the element that appears the most times.\n",
    "    \"\"\"\n",
    "    mode = None\n",
    "    modeCount = 0\n",
    "\n",
    "    modeDict = {}\n",
    "    for i in arr:\n",
    "        modeDict[i] = 0\n",
    "\n",
    "    for i in arr:\n",
    "        for k in modeDict.keys():\n",
    "            if i == k:\n",
    "                modeDict[i] += 1\n",
    "    \n",
    "    for k, v in modeDict.items():\n",
    "        if v > modeCount:\n",
    "            modeCount = v\n",
    "            mode = k\n",
    "    \n",
    "    return mode"
   ]
  },
  {
   "cell_type": "code",
   "execution_count": 153,
   "metadata": {},
   "outputs": [
    {
     "name": "stderr",
     "output_type": "stream",
     "text": [
      "....................................................................................................\n",
      "----------------------------------------------------------------------\n",
      "Ran 100 tests in 0.046s\n",
      "\n",
      "OK\n"
     ]
    }
   ],
   "source": [
    "# This will test your function \n",
    "test_mode(mode_counter)"
   ]
  },
  {
   "cell_type": "markdown",
   "metadata": {},
   "source": [
    "## 9. Write a function that calculates the standard deviation of a list.\n",
    "`NOTE: Do not use any libraries or already built functions. 😉`"
   ]
  },
  {
   "cell_type": "code",
   "execution_count": 158,
   "metadata": {},
   "outputs": [],
   "source": [
    "def st_dev(list_sd):\n",
    "    \"\"\"\n",
    "    This function calculates the standard deviation of a list.\n",
    "\n",
    "    Args:\n",
    "        list_sd: The list of numbers to calculate the standard deviation from.\n",
    "\n",
    "    Returns:\n",
    "        s_deviation: The Standartd Deviation of the list.\n",
    "    \"\"\"\n",
    "    n_sum = 0           # Used to store the Sum of all the numbers in the list for the mean calculation.\n",
    "    n_count = 0         # Integer for counting the number of elements in the list.\n",
    "    n_variance_sum = 0  # Used for the sum of he squared differences from the mean.\n",
    "\n",
    "    # Calculating the sum of all values in the list and the number of elements in it.\n",
    "    for i in list_sd:\n",
    "        n_sum += i\n",
    "        n_count += 1\n",
    "\n",
    "    #The simple average of the numbers.\n",
    "    mean = n_sum/n_count \n",
    "\n",
    "    # The list storing the squared differences from the mean.\n",
    "    diff_list = [(i-mean)**2 for i in list_sd]\n",
    "\n",
    "    # Calculating the sum of all values in the squared differences list.\n",
    "    for i in diff_list:\n",
    "        n_variance_sum += i\n",
    "\n",
    "    # Calculating the Variance.\n",
    "    n_variance = n_variance_sum/(n_count-1)\n",
    "\n",
    "    # Calculating the standard deviation by finding the square root of the variance. (√x = x^1/2)\n",
    "    s_deviation = (n_variance)**0.5\n",
    "    \n",
    "    return s_deviation\n",
    "    "
   ]
  },
  {
   "cell_type": "code",
   "execution_count": 159,
   "metadata": {},
   "outputs": [
    {
     "name": "stderr",
     "output_type": "stream",
     "text": [
      "....................................................................................................\n",
      "----------------------------------------------------------------------\n",
      "Ran 100 tests in 0.040s\n",
      "\n",
      "OK\n"
     ]
    }
   ],
   "source": [
    "# This will test your function \n",
    "test_stdev(st_dev)"
   ]
  },
  {
   "cell_type": "markdown",
   "metadata": {},
   "source": [
    "## 10. Write a function to check if a string is a pangram, i.e.: if it contains all the letters of the alphabet at least once. Mind that the strings may contain characters that are not letters."
   ]
  },
  {
   "cell_type": "code",
   "execution_count": 218,
   "metadata": {},
   "outputs": [],
   "source": [
    "def pangram(string):\n",
    "\n",
    "    is_pangram = False\n",
    "    az_list = ['a','b','c','d','e','f','g','h','i','j','k','l','m','n','o','p','q','r','s','t','u','v','w','x','y','z']\n",
    "    az_dict = {letter:False for letter in az_list}\n",
    "\n",
    "    letter_only_list = [char.lower() for char in string for letter in az_list if char.lower() == letter]\n",
    "\n",
    "    for letter in letter_only_list:\n",
    "        for dict_letter in az_dict.keys():\n",
    "            if letter == dict_letter:\n",
    "                az_dict[letter] = True\n",
    "\n",
    "    for value in az_dict.values():\n",
    "        if value == False:\n",
    "            is_pangram = False\n",
    "            break\n",
    "        is_pangram = True\n",
    "\n",
    "    return is_pangram"
   ]
  },
  {
   "cell_type": "code",
   "execution_count": 219,
   "metadata": {},
   "outputs": [
    {
     "name": "stderr",
     "output_type": "stream",
     "text": [
      "..............................\n",
      "----------------------------------------------------------------------\n",
      "Ran 30 tests in 0.014s\n",
      "\n",
      "OK\n"
     ]
    }
   ],
   "source": [
    "# This will test your function \n",
    "test_pangram(pangram)"
   ]
  },
  {
   "cell_type": "markdown",
   "metadata": {},
   "source": [
    "## 11. Write a function that receives a string of comma separated words and returns a string of comma separated words sorted alphabetically.\n",
    "\n",
    "`NOTE: You may use sorted but not split and definitely no join! 🤪`"
   ]
  },
  {
   "cell_type": "code",
   "execution_count": 291,
   "metadata": {},
   "outputs": [],
   "source": [
    "def sort_alpha(string):\n",
    "    new_string = string + ','\n",
    "    word_list = []\n",
    "    word = []\n",
    "    word_count = 0\n",
    "    \n",
    "    for char in new_string:\n",
    "        if char != ',':\n",
    "            word.append(char.lower())\n",
    "        else:        \n",
    "            word_list.append(word)\n",
    "            word_count += 1\n",
    "            word = []\n",
    "    \n",
    "    sorted_list = sorted(word_list)\n",
    "\n",
    "    sorted_string = \"\"\n",
    "    for word in sorted_list:\n",
    "            for char in word:\n",
    "                sorted_string += char\n",
    "            if sorted_list.index(word) != word_count-1:\n",
    "                sorted_string += ','\n",
    "\n",
    "    return sorted_string"
   ]
  },
  {
   "cell_type": "code",
   "execution_count": 292,
   "metadata": {},
   "outputs": [
    {
     "name": "stderr",
     "output_type": "stream",
     "text": [
      "....................................................................................................\n",
      "----------------------------------------------------------------------\n",
      "Ran 100 tests in 0.048s\n",
      "\n",
      "OK\n"
     ]
    }
   ],
   "source": [
    "# This will test your function \n",
    "test_alpha(sort_alpha)"
   ]
  },
  {
   "cell_type": "markdown",
   "metadata": {},
   "source": [
    "## 12. Write a function to check if a given password is strong (at least 8 characters, at least one lower case, at least one upper case, at least one number and at least one special character). It should output True if strong and False if not."
   ]
  },
  {
   "cell_type": "code",
   "execution_count": 362,
   "metadata": {},
   "outputs": [],
   "source": [
    "def check_pass(password):\n",
    "    char_count = 0\n",
    "    true_count = 0\n",
    "    checkDir = dict(char_count = False, lower = False, upper = False, number = False, special = False)\n",
    "\n",
    "    for char in password:\n",
    "        char_count += 1\n",
    "        if char.isalnum() and not(char.isdigit()):\n",
    "            if char == char.lower():\n",
    "                checkDir['lower'] = True\n",
    "            if char == char.upper():\n",
    "                checkDir['upper'] = True\n",
    "        if char.isdigit():\n",
    "            checkDir['number'] = True\n",
    "        if not(char.isalnum()):\n",
    "            checkDir['special'] = True\n",
    "    if char_count >= 8:\n",
    "        checkDir['char_count'] = True\n",
    "\n",
    "    for v in checkDir.values():\n",
    "        if v: true_count += 1\n",
    "        else: return False\n",
    "    if true_count == 5: return True"
   ]
  },
  {
   "cell_type": "code",
   "execution_count": 363,
   "metadata": {},
   "outputs": [
    {
     "name": "stderr",
     "output_type": "stream",
     "text": [
      "....................................................................................................\n",
      "----------------------------------------------------------------------\n",
      "Ran 100 tests in 0.035s\n",
      "\n",
      "OK\n"
     ]
    }
   ],
   "source": [
    "# This will test your function \n",
    "test_pass(check_pass)"
   ]
  }
 ],
 "metadata": {
  "kernelspec": {
   "display_name": "Python 3 (ipykernel)",
   "language": "python",
   "name": "python3"
  },
  "language_info": {
   "codemirror_mode": {
    "name": "ipython",
    "version": 3
   },
   "file_extension": ".py",
   "mimetype": "text/x-python",
   "name": "python",
   "nbconvert_exporter": "python",
   "pygments_lexer": "ipython3",
   "version": "3.12.4"
  },
  "vscode": {
   "interpreter": {
    "hash": "aee8b7b246df8f9039afb4144a1f6fd8d2ca17a180786b69acc140d282b71a49"
   }
  }
 },
 "nbformat": 4,
 "nbformat_minor": 4
}
